{
 "cells": [
  {
   "cell_type": "markdown",
   "metadata": {},
   "source": [
    "# Protein Family Classification"
   ]
  },
  {
   "cell_type": "markdown",
   "metadata": {},
   "source": [
    "## Task\n",
    "    \n",
    "Use your ProtVec embedding from homework 5 to perform protein family classification using RNN.\n",
    "\n",
    "Article with the original research can be found here http://journals.plos.org/plosone/article/file?id=10.1371/journal.pone.0141287&type=printable\n",
    "\n",
    "* use 1000 most frequent families for classification\n",
    "* validate your results on the train-test split\n",
    "* reduce the dimensionality of the protein-space using Stochastic Neighbor Embedding and visualize two most frequent classes\n",
    "* compare your RNN results with SVM\n",
    "* visualization and metrics are up to you"
   ]
  },
  {
   "cell_type": "code",
   "execution_count": 139,
   "metadata": {},
   "outputs": [],
   "source": [
    "import os\n",
    "import joblib\n",
    "import pickle\n",
    "import random\n",
    "import numpy as np\n",
    "import pandas as pd\n",
    "import tensorflow as tf\n",
    "\n",
    "from lazy import lazy\n",
    "from sklearn.svm import SVC\n",
    "from attrdict import AttrDict\n",
    "from tqdm import tqdm_notebook\n",
    "from collections import Counter, defaultdict\n",
    "from sklearn.ensemble import RandomForestClassifier\n",
    "from sklearn.model_selection import train_test_split\n",
    "from keras.preprocessing.sequence import pad_sequences"
   ]
  },
  {
   "cell_type": "markdown",
   "metadata": {},
   "source": [
    "## Data Reading"
   ]
  },
  {
   "cell_type": "code",
   "execution_count": 2,
   "metadata": {},
   "outputs": [],
   "source": [
    "data_df = pd.read_table('../seminar05/data/family_classification_metadata.tab')\n",
    "seq_df = pd.read_table('../seminar05/data/family_classification_sequences.tab')\n",
    "vec_df = pd.read_csv('protVec_100d_3grams.csv', header=None)"
   ]
  },
  {
   "cell_type": "code",
   "execution_count": 3,
   "metadata": {},
   "outputs": [
    {
     "data": {
      "text/plain": [
       "(324018, True)"
      ]
     },
     "execution_count": 3,
     "metadata": {},
     "output_type": "execute_result"
    }
   ],
   "source": [
    "len(data_df), (len(data_df) == len(seq_df))"
   ]
  },
  {
   "cell_type": "code",
   "execution_count": 4,
   "metadata": {},
   "outputs": [
    {
     "data": {
      "text/html": [
       "<div>\n",
       "<style>\n",
       "    .dataframe thead tr:only-child th {\n",
       "        text-align: right;\n",
       "    }\n",
       "\n",
       "    .dataframe thead th {\n",
       "        text-align: left;\n",
       "    }\n",
       "\n",
       "    .dataframe tbody tr th {\n",
       "        vertical-align: top;\n",
       "    }\n",
       "</style>\n",
       "<table border=\"1\" class=\"dataframe\">\n",
       "  <thead>\n",
       "    <tr style=\"text-align: right;\">\n",
       "      <th></th>\n",
       "      <th>SwissProtAccessionID</th>\n",
       "      <th>LongID</th>\n",
       "      <th>ProteinName</th>\n",
       "      <th>FamilyID</th>\n",
       "      <th>FamilyDescription</th>\n",
       "    </tr>\n",
       "  </thead>\n",
       "  <tbody>\n",
       "    <tr>\n",
       "      <th>0</th>\n",
       "      <td>Q6GZX4</td>\n",
       "      <td>001R_FRG3G</td>\n",
       "      <td>Putative transcription factor 001R</td>\n",
       "      <td>Pox_VLTF3</td>\n",
       "      <td>Poxvirus Late Transcription Factor VLTF3 like</td>\n",
       "    </tr>\n",
       "    <tr>\n",
       "      <th>1</th>\n",
       "      <td>Q6GZX3</td>\n",
       "      <td>002L_FRG3G</td>\n",
       "      <td>Uncharacterized protein 002L</td>\n",
       "      <td>DUF230</td>\n",
       "      <td>Poxvirus proteins of unknown function</td>\n",
       "    </tr>\n",
       "    <tr>\n",
       "      <th>2</th>\n",
       "      <td>Q6GZX0</td>\n",
       "      <td>005R_FRG3G</td>\n",
       "      <td>Uncharacterized protein 005R</td>\n",
       "      <td>US22</td>\n",
       "      <td>US22 like</td>\n",
       "    </tr>\n",
       "    <tr>\n",
       "      <th>3</th>\n",
       "      <td>Q91G88</td>\n",
       "      <td>006L_IIV6</td>\n",
       "      <td>Putative KilA-N domain-containing protein 006L</td>\n",
       "      <td>DUF3627</td>\n",
       "      <td>Protein of unknown function (DUF3627)</td>\n",
       "    </tr>\n",
       "    <tr>\n",
       "      <th>4</th>\n",
       "      <td>Q197F3</td>\n",
       "      <td>007R_IIV3</td>\n",
       "      <td>Uncharacterized protein 007R</td>\n",
       "      <td>DUF2738</td>\n",
       "      <td>Protein of unknown function (DUF2738)</td>\n",
       "    </tr>\n",
       "  </tbody>\n",
       "</table>\n",
       "</div>"
      ],
      "text/plain": [
       "  SwissProtAccessionID      LongID  \\\n",
       "0               Q6GZX4  001R_FRG3G   \n",
       "1               Q6GZX3  002L_FRG3G   \n",
       "2               Q6GZX0  005R_FRG3G   \n",
       "3               Q91G88   006L_IIV6   \n",
       "4               Q197F3   007R_IIV3   \n",
       "\n",
       "                                      ProteinName   FamilyID  \\\n",
       "0              Putative transcription factor 001R  Pox_VLTF3   \n",
       "1                    Uncharacterized protein 002L     DUF230   \n",
       "2                    Uncharacterized protein 005R       US22   \n",
       "3  Putative KilA-N domain-containing protein 006L    DUF3627   \n",
       "4                    Uncharacterized protein 007R    DUF2738   \n",
       "\n",
       "                               FamilyDescription  \n",
       "0  Poxvirus Late Transcription Factor VLTF3 like  \n",
       "1          Poxvirus proteins of unknown function  \n",
       "2                                      US22 like  \n",
       "3          Protein of unknown function (DUF3627)  \n",
       "4          Protein of unknown function (DUF2738)  "
      ]
     },
     "execution_count": 4,
     "metadata": {},
     "output_type": "execute_result"
    }
   ],
   "source": [
    "data_df.head()"
   ]
  },
  {
   "cell_type": "code",
   "execution_count": 5,
   "metadata": {},
   "outputs": [
    {
     "data": {
      "text/html": [
       "<div>\n",
       "<style>\n",
       "    .dataframe thead tr:only-child th {\n",
       "        text-align: right;\n",
       "    }\n",
       "\n",
       "    .dataframe thead th {\n",
       "        text-align: left;\n",
       "    }\n",
       "\n",
       "    .dataframe tbody tr th {\n",
       "        vertical-align: top;\n",
       "    }\n",
       "</style>\n",
       "<table border=\"1\" class=\"dataframe\">\n",
       "  <thead>\n",
       "    <tr style=\"text-align: right;\">\n",
       "      <th></th>\n",
       "      <th>SwissProtAccessionID</th>\n",
       "      <th>LongID</th>\n",
       "      <th>ProteinName</th>\n",
       "      <th>FamilyID</th>\n",
       "      <th>FamilyDescription</th>\n",
       "    </tr>\n",
       "  </thead>\n",
       "  <tbody>\n",
       "    <tr>\n",
       "      <th>count</th>\n",
       "      <td>324018</td>\n",
       "      <td>324018</td>\n",
       "      <td>324018</td>\n",
       "      <td>324018</td>\n",
       "      <td>324018</td>\n",
       "    </tr>\n",
       "    <tr>\n",
       "      <th>unique</th>\n",
       "      <td>287308</td>\n",
       "      <td>295671</td>\n",
       "      <td>56951</td>\n",
       "      <td>7027</td>\n",
       "      <td>6967</td>\n",
       "    </tr>\n",
       "    <tr>\n",
       "      <th>top</th>\n",
       "      <td>Q1X881</td>\n",
       "      <td>POLG_YEFVT</td>\n",
       "      <td>UvrABC system protein B</td>\n",
       "      <td>MMR_HSR1</td>\n",
       "      <td>50S ribosome-binding GTPase</td>\n",
       "    </tr>\n",
       "    <tr>\n",
       "      <th>freq</th>\n",
       "      <td>16</td>\n",
       "      <td>12</td>\n",
       "      <td>1500</td>\n",
       "      <td>3084</td>\n",
       "      <td>3084</td>\n",
       "    </tr>\n",
       "  </tbody>\n",
       "</table>\n",
       "</div>"
      ],
      "text/plain": [
       "       SwissProtAccessionID      LongID              ProteinName  FamilyID  \\\n",
       "count                324018      324018                   324018    324018   \n",
       "unique               287308      295671                    56951      7027   \n",
       "top                  Q1X881  POLG_YEFVT  UvrABC system protein B  MMR_HSR1   \n",
       "freq                     16          12                     1500      3084   \n",
       "\n",
       "                  FamilyDescription  \n",
       "count                        324018  \n",
       "unique                         6967  \n",
       "top     50S ribosome-binding GTPase  \n",
       "freq                           3084  "
      ]
     },
     "execution_count": 5,
     "metadata": {},
     "output_type": "execute_result"
    }
   ],
   "source": [
    "data_df.describe()"
   ]
  },
  {
   "cell_type": "code",
   "execution_count": 6,
   "metadata": {},
   "outputs": [
    {
     "data": {
      "text/html": [
       "<div>\n",
       "<style>\n",
       "    .dataframe thead tr:only-child th {\n",
       "        text-align: right;\n",
       "    }\n",
       "\n",
       "    .dataframe thead th {\n",
       "        text-align: left;\n",
       "    }\n",
       "\n",
       "    .dataframe tbody tr th {\n",
       "        vertical-align: top;\n",
       "    }\n",
       "</style>\n",
       "<table border=\"1\" class=\"dataframe\">\n",
       "  <thead>\n",
       "    <tr style=\"text-align: right;\">\n",
       "      <th></th>\n",
       "      <th>Sequences</th>\n",
       "    </tr>\n",
       "  </thead>\n",
       "  <tbody>\n",
       "    <tr>\n",
       "      <th>0</th>\n",
       "      <td>MAFSAEDVLKEYDRRRRMEALLLSLYYPNDRKLLDYKEWSPPRVQV...</td>\n",
       "    </tr>\n",
       "    <tr>\n",
       "      <th>1</th>\n",
       "      <td>MSIIGATRLQNDKSDTYSAGPCYAGGCSAFTPRGTCGKDWDLGEQT...</td>\n",
       "    </tr>\n",
       "    <tr>\n",
       "      <th>2</th>\n",
       "      <td>MQNPLPEVMSPEHDKRTTTPMSKEANKFIRELDKKPGDLAVVSDFV...</td>\n",
       "    </tr>\n",
       "    <tr>\n",
       "      <th>3</th>\n",
       "      <td>MDSLNEVCYEQIKGTFYKGLFGDFPLIVDKKTGCFNATKLCVLGGK...</td>\n",
       "    </tr>\n",
       "    <tr>\n",
       "      <th>4</th>\n",
       "      <td>MEAKNITIDNTTYNFFKFYNINQPLTNLKYLNSERLCFSNAVMGKI...</td>\n",
       "    </tr>\n",
       "  </tbody>\n",
       "</table>\n",
       "</div>"
      ],
      "text/plain": [
       "                                           Sequences\n",
       "0  MAFSAEDVLKEYDRRRRMEALLLSLYYPNDRKLLDYKEWSPPRVQV...\n",
       "1  MSIIGATRLQNDKSDTYSAGPCYAGGCSAFTPRGTCGKDWDLGEQT...\n",
       "2  MQNPLPEVMSPEHDKRTTTPMSKEANKFIRELDKKPGDLAVVSDFV...\n",
       "3  MDSLNEVCYEQIKGTFYKGLFGDFPLIVDKKTGCFNATKLCVLGGK...\n",
       "4  MEAKNITIDNTTYNFFKFYNINQPLTNLKYLNSERLCFSNAVMGKI..."
      ]
     },
     "execution_count": 6,
     "metadata": {},
     "output_type": "execute_result"
    }
   ],
   "source": [
    "seq_df.head()"
   ]
  },
  {
   "cell_type": "code",
   "execution_count": 7,
   "metadata": {},
   "outputs": [
    {
     "data": {
      "text/html": [
       "<div>\n",
       "<style>\n",
       "    .dataframe thead tr:only-child th {\n",
       "        text-align: right;\n",
       "    }\n",
       "\n",
       "    .dataframe thead th {\n",
       "        text-align: left;\n",
       "    }\n",
       "\n",
       "    .dataframe tbody tr th {\n",
       "        vertical-align: top;\n",
       "    }\n",
       "</style>\n",
       "<table border=\"1\" class=\"dataframe\">\n",
       "  <thead>\n",
       "    <tr style=\"text-align: right;\">\n",
       "      <th></th>\n",
       "      <th>0</th>\n",
       "    </tr>\n",
       "  </thead>\n",
       "  <tbody>\n",
       "    <tr>\n",
       "      <th>0</th>\n",
       "      <td>AAA\\t-0.17406\\t-0.095756\\t0.059515\\t0.039673\\t...</td>\n",
       "    </tr>\n",
       "    <tr>\n",
       "      <th>1</th>\n",
       "      <td>ALA\\t-0.114085\\t-0.093288\\t0.1558\\t-0.037351\\t...</td>\n",
       "    </tr>\n",
       "    <tr>\n",
       "      <th>2</th>\n",
       "      <td>LLL\\t-0.075594\\t-0.100834\\t-0.046616\\t-0.20898...</td>\n",
       "    </tr>\n",
       "    <tr>\n",
       "      <th>3</th>\n",
       "      <td>LAA\\t-0.137546\\t-0.135425\\t0.121566\\t-0.038295...</td>\n",
       "    </tr>\n",
       "    <tr>\n",
       "      <th>4</th>\n",
       "      <td>AAL\\t-0.156112\\t-0.133524\\t0.114426\\t-0.020264...</td>\n",
       "    </tr>\n",
       "  </tbody>\n",
       "</table>\n",
       "</div>"
      ],
      "text/plain": [
       "                                                   0\n",
       "0  AAA\\t-0.17406\\t-0.095756\\t0.059515\\t0.039673\\t...\n",
       "1  ALA\\t-0.114085\\t-0.093288\\t0.1558\\t-0.037351\\t...\n",
       "2  LLL\\t-0.075594\\t-0.100834\\t-0.046616\\t-0.20898...\n",
       "3  LAA\\t-0.137546\\t-0.135425\\t0.121566\\t-0.038295...\n",
       "4  AAL\\t-0.156112\\t-0.133524\\t0.114426\\t-0.020264..."
      ]
     },
     "execution_count": 7,
     "metadata": {},
     "output_type": "execute_result"
    }
   ],
   "source": [
    "vec_df.head()"
   ]
  },
  {
   "cell_type": "markdown",
   "metadata": {},
   "source": [
    "## Data Processing"
   ]
  },
  {
   "cell_type": "code",
   "execution_count": 8,
   "metadata": {},
   "outputs": [],
   "source": [
    "def make_codones(sseq):\n",
    "    crop = len(sseq) % 3\n",
    "    cropped_seq = sseq[:-crop] if crop > 0 else sseq\n",
    "    return [cropped_seq[i:i+3] for i in range(0, len(cropped_seq), 3)]\n",
    "\n",
    "\n",
    "def create_codone2vec():\n",
    "    return {row[1][0].split('\\t', maxsplit=1)[0]: np.array(list(map(float, row[1][0].split('\\t')[1:])))\n",
    "            for row in vec_df.iterrows()}\n",
    "\n",
    "\n",
    "def create_data(top_classes):\n",
    "    # familty <-> num\n",
    "    families = data_df['FamilyID']\n",
    "    family2num = {c: i for i, (c, _) in enumerate(Counter(families).most_common(top_classes))}\n",
    "    num2family = {i: c for c, i in family2num.items()}\n",
    "    # good indicies\n",
    "    inds = np.array([i for i, f in enumerate(families) if f in family2num])\n",
    "    # codone -> vec | <unk>\n",
    "    codone2vec = create_codone2vec()\n",
    "    # codone <-> num\n",
    "    codones = set(codone2vec.keys())\n",
    "    codone2num = {c: i for i, (c, _) in enumerate(Counter(codones).most_common())}\n",
    "    codone2num = defaultdict(lambda: codone2num['<unk>'], codone2num)\n",
    "    num2codone = {i: c for c, i in codone2num.items()}\n",
    "    # num -> vec\n",
    "    num2vec = {i: codone2vec[c] for c, i in codone2num.items()}\n",
    "    \n",
    "    X, y = [], []\n",
    "    for i, (row,) in tqdm_notebook(seq_df.iloc[inds].iterrows(), total=len(inds)):\n",
    "        X.append(np.array([codone2num[x] for x in make_codones(row)]))\n",
    "        y.append(family2num[families[i]])\n",
    "    \n",
    "    return X, np.array(y), num2vec, num2family"
   ]
  },
  {
   "cell_type": "code",
   "execution_count": 9,
   "metadata": {},
   "outputs": [],
   "source": [
    "def read_or_create(read_path, refresh, producer, saver):\n",
    "    if os.path.isfile(read_path) and not refresh:\n",
    "        print('reading', read_path)\n",
    "        with open(read_path, 'rb') as fp:\n",
    "            return saver.load(fp)\n",
    "    result = producer()\n",
    "    print('saving', read_path)\n",
    "    with open(read_path, 'wb') as fp:\n",
    "        saver.dump(result, fp)\n",
    "    return result\n",
    "\n",
    "\n",
    "def process_data(read_path, refresh, top_classes, saver=pickle):\n",
    "    return read_or_create(read_path=read_path, \n",
    "                          refresh=refresh,\n",
    "                          producer=lambda: create_data(top_classes=top_classes), \n",
    "                          saver=saver)"
   ]
  },
  {
   "cell_type": "code",
   "execution_count": 10,
   "metadata": {},
   "outputs": [
    {
     "name": "stderr",
     "output_type": "stream",
     "text": [
      "100%|██████████| 218790/218790 [01:39<00:00, 2193.07it/s]\n"
     ]
    },
    {
     "name": "stdout",
     "output_type": "stream",
     "text": [
      "saving data/raw_data.pickle\n"
     ]
    }
   ],
   "source": [
    "raw_X, raw_Y, num2vec, num2family = process_data(read_path='raw_data.pickle', \n",
    "                                                 refresh=False, top_classes=500)"
   ]
  },
  {
   "cell_type": "markdown",
   "metadata": {},
   "source": [
    "## Examine Data\n",
    "\n",
    "So far, we have only `raw_X`, `raw_Y`, `num2vec` and `num2family` to work with."
   ]
  },
  {
   "cell_type": "code",
   "execution_count": 27,
   "metadata": {},
   "outputs": [
    {
     "data": {
      "text/plain": [
       "(list, 218790, numpy.ndarray, (316,), (3429,))"
      ]
     },
     "execution_count": 27,
     "metadata": {},
     "output_type": "execute_result"
    }
   ],
   "source": [
    "type(raw_X), len(raw_X), type(raw_X[0]), raw_X[0].shape, max(x.shape[0] for x in raw_X)"
   ]
  },
  {
   "cell_type": "code",
   "execution_count": 40,
   "metadata": {},
   "outputs": [
    {
     "data": {
      "text/plain": [
       "(numpy.ndarray, (218790,), 0, 499)"
      ]
     },
     "execution_count": 40,
     "metadata": {},
     "output_type": "execute_result"
    }
   ],
   "source": [
    "type(raw_Y), raw_Y.shape, raw_Y.min(), raw_Y.max()"
   ]
  },
  {
   "cell_type": "code",
   "execution_count": 26,
   "metadata": {},
   "outputs": [
    {
     "data": {
      "text/plain": [
       "(dict, [(0, (100,)), (1, (100,)), (2, (100,)), (3, (100,))])"
      ]
     },
     "execution_count": 26,
     "metadata": {},
     "output_type": "execute_result"
    }
   ],
   "source": [
    "type(num2vec), list((n, v.shape) for n, v in num2vec.items())[:4]"
   ]
  },
  {
   "cell_type": "code",
   "execution_count": 25,
   "metadata": {},
   "outputs": [
    {
     "data": {
      "text/plain": [
       "(dict, [(0, 'MMR_HSR1'), (1, 'Helicase_C'), (2, 'ATP-synt_ab'), (3, '7tm_1')])"
      ]
     },
     "execution_count": 25,
     "metadata": {},
     "output_type": "execute_result"
    }
   ],
   "source": [
    "type(num2family), list(num2family.items())[:4]"
   ]
  },
  {
   "cell_type": "code",
   "execution_count": 72,
   "metadata": {},
   "outputs": [],
   "source": [
    "def preprocess_batched(X, Y, n2v, params):\n",
    "    # shuffling\n",
    "    arr = np.arange(len(X))\n",
    "    np.random.shuffle(arr)\n",
    "    X, Y = pd.Series(X).iloc[arr].tolist(), Y[arr]\n",
    "    # generator\n",
    "    it_X, it_Y = iter(X), iter(Y)\n",
    "    while True:\n",
    "        data = np.zeros((params.batch_size, params.seq_length, params.embed_length))\n",
    "        target = np.zeros((params.batch_size, params.classes))\n",
    "        for index in range(params.batch_size):\n",
    "            x, y = next(it_X), next(it_Y)\n",
    "            seq = np.zeros((params.seq_length, params.embed_length))\n",
    "            seq[:len(x)] = np.vstack([n2v[int(n)] for n in x])\n",
    "            data[index] = seq\n",
    "            label = np.zeros(params.classes)\n",
    "            label[y] = 1\n",
    "            target[index] = label\n",
    "        yield data, target"
   ]
  },
  {
   "cell_type": "markdown",
   "metadata": {},
   "source": [
    "## Model"
   ]
  },
  {
   "cell_type": "code",
   "execution_count": 79,
   "metadata": {},
   "outputs": [],
   "source": [
    "class FamilyClassifierRNNModel:\n",
    "    def __init__(self, params):\n",
    "        self.params = params\n",
    "        self._create_placeholders()\n",
    "        self.prediction\n",
    "        self.cost\n",
    "        self.error\n",
    "        self.optimize\n",
    "        self._create_summaries()\n",
    "    \n",
    "    @lazy\n",
    "    def prediction(self):\n",
    "        with tf.name_scope(\"recurrent_layer\"):\n",
    "            output, _ = tf.nn.dynamic_rnn(\n",
    "                self.params.rnn_cell(self.params.rnn_hidden),\n",
    "                self.data,\n",
    "                dtype=tf.float32,\n",
    "                sequence_length=self.length\n",
    "            )\n",
    "        last = self._last_relevant(output, self.length)\n",
    "        with tf.name_scope(\"softmax_layer\"):\n",
    "            num_classes = int(self.target.get_shape()[1])\n",
    "            weight = tf.Variable(tf.truncated_normal([self.params.rnn_hidden, num_classes], stddev=0.01))\n",
    "            bias = tf.Variable(tf.constant(0.1, shape=[num_classes]))\n",
    "            prediction = tf.nn.softmax(tf.matmul(last, weight) + bias)\n",
    "        return prediction\n",
    "    \n",
    "    @lazy\n",
    "    def cost(self):\n",
    "        cross_entropy = -tf.reduce_sum(self.target * tf.log(self.prediction))\n",
    "        return cross_entropy\n",
    "    \n",
    "    @lazy\n",
    "    def error(self):\n",
    "        self.mistakes = tf.not_equal(tf.argmax(self.target, 1), tf.argmax(self.prediction, 1))\n",
    "        return tf.reduce_mean(tf.cast(self.mistakes, tf.float32))\n",
    "    \n",
    "    @lazy\n",
    "    def optimize(self):\n",
    "        with tf.name_scope(\"optimization\"):\n",
    "            gradient = self.params.optimizer.compute_gradients(self.cost)\n",
    "            if self.params.gradient_clipping:\n",
    "                limit = self.params.gradient_clipping\n",
    "                gradient = [\n",
    "                    (tf.clip_by_value(g, -limit, limit), v)\n",
    "                    if g is not None else (None, v)\n",
    "                    for g, v in gradient]\n",
    "            optimize = self.params.optimizer.apply_gradients(gradient)\n",
    "        return optimize\n",
    "    \n",
    "    @lazy\n",
    "    def length(self):\n",
    "        with tf.name_scope(\"seq_length\"):\n",
    "            used = tf.sign(tf.reduce_max(tf.abs(self.data), reduction_indices=2))\n",
    "            length = tf.reduce_sum(used, reduction_indices=1)\n",
    "            length = tf.cast(length, tf.int32)\n",
    "        return length\n",
    "    \n",
    "    def _create_placeholders(self):\n",
    "        with tf.name_scope(\"data\"):\n",
    "            self.data = tf.placeholder(tf.float32, [None, self.params.seq_length, self.params.embed_length])\n",
    "            self.target = tf.placeholder(tf.float32, [None, self.params.classes])\n",
    "  \n",
    "    def _create_summaries(self):\n",
    "        with tf.name_scope(\"summaries\"):\n",
    "            tf.summary.scalar('loss', self.cost)\n",
    "            tf.summary.scalar('erroe', self.error)\n",
    "            self.summary = tf.summary.merge_all()\n",
    "            saver = tf.train.Saver()\n",
    "    \n",
    "    @staticmethod\n",
    "    def _last_relevant(output, length):\n",
    "        with tf.name_scope(\"last_relevant\"):\n",
    "            batch_size = tf.shape(output)[0]\n",
    "            max_length = int(output.get_shape()[1])\n",
    "            output_size = int(output.get_shape()[2])\n",
    "            index = tf.range(0, batch_size) * max_length + (length - 1)\n",
    "            flat = tf.reshape(output, [-1, output_size])\n",
    "            relevant = tf.gather(flat, index)\n",
    "        return relevant"
   ]
  },
  {
   "cell_type": "markdown",
   "metadata": {},
   "source": [
    "## Evaluating"
   ]
  },
  {
   "cell_type": "code",
   "execution_count": null,
   "metadata": {},
   "outputs": [],
   "source": [
    "params = AttrDict(\n",
    "    rnn_cell=tf.contrib.rnn.GRUCell,\n",
    "    rnn_hidden=300,\n",
    "    optimizer=tf.train.RMSPropOptimizer(0.002),\n",
    "    batch_size=64,\n",
    "    gradient_clipping=100,\n",
    "    seq_length=max(x.shape[0] for x in raw_X),\n",
    "    embed_length=num2vec[0].shape[0],\n",
    "    classes=raw_Y.max() + 1,\n",
    "    device='cpu',\n",
    "    mem_frac=0.25,\n",
    "    max_iter=30,\n",
    "    test_size=0.2\n",
    ")\n",
    "params"
   ]
  },
  {
   "cell_type": "code",
   "execution_count": 126,
   "metadata": {},
   "outputs": [],
   "source": [
    "def get_total(mode):\n",
    "    scale = (1 - params.test_size) if mode == \"train\" else params.test_size\n",
    "    return min(int(len(raw_X) * scale / params.batch_size), \n",
    "               params.max_iter or len(raw_X))"
   ]
  },
  {
   "cell_type": "code",
   "execution_count": 103,
   "metadata": {},
   "outputs": [],
   "source": [
    "raw_X_train, raw_X_test, raw_Y_train, raw_Y_test = train_test_split(raw_X, raw_Y, test_size=params.test_size) \n",
    "train_batches = preprocess_batched(raw_X_train, raw_Y_train, num2vec, params)\n",
    "test_batches = preprocess_batched(raw_X_test, raw_Y_test, num2vec, params)"
   ]
  },
  {
   "cell_type": "code",
   "execution_count": 104,
   "metadata": {},
   "outputs": [
    {
     "name": "stderr",
     "output_type": "stream",
     "text": [
      "/opt/anaconda3/lib/python3.6/site-packages/tensorflow/python/ops/gradients_impl.py:93: UserWarning: Converting sparse IndexedSlices to a dense Tensor of unknown shape. This may consume a large amount of memory.\n",
      "  \"Converting sparse IndexedSlices to a dense Tensor of unknown shape. \"\n"
     ]
    }
   ],
   "source": [
    "tf.reset_default_graph()\n",
    "model = FamilyClassifierRNNModel(params)"
   ]
  },
  {
   "cell_type": "code",
   "execution_count": null,
   "metadata": {},
   "outputs": [],
   "source": [
    "if params.device == 'cpu':\n",
    "    config = tf.ConfigProto(device_count={'GPU': 0})\n",
    "else:\n",
    "    config = tf.ConfigProto(gpu_options=tf.GPUOptions(per_process_gpu_memory_fraction=params.mem_frac))\n",
    "\n",
    "with tf.Session(config=config) as sess:\n",
    "    sess.run(tf.global_variables_initializer())\n",
    "    summary_writer = tf.summary.FileWriter('graphs', sess.graph)\n",
    "    total = get_total(\"train\")\n",
    "    error = 1.\n",
    "    with tqdm_notebook(total=total) as pbar:\n",
    "        for index, batch in enumerate(train_batches):\n",
    "            pbar.update(1)\n",
    "            pbar.set_description('Error at {}: {:3.3f}%, batches passed'.format(index + 1, 100 * error))\n",
    "            if index == params.max_iter:\n",
    "                break\n",
    "            feed = {model.data: batch[0], model.target: batch[1]}\n",
    "            error, _, summary_str = sess.run([model.error, model.optimize, model.summary], feed)\n",
    "            summary_writer.add_summary(summary_str, index)"
   ]
  },
  {
   "cell_type": "markdown",
   "metadata": {},
   "source": [
    "## SVM"
   ]
  },
  {
   "cell_type": "code",
   "execution_count": 143,
   "metadata": {},
   "outputs": [],
   "source": [
    "raw_X_train, raw_X_test, raw_Y_train, raw_Y_test = train_test_split(\n",
    "    pad_sequences(raw_X[:10000]), raw_Y[:10000], test_size=params.test_size\n",
    ") "
   ]
  },
  {
   "cell_type": "code",
   "execution_count": null,
   "metadata": {},
   "outputs": [],
   "source": [
    "model = SVC()"
   ]
  },
  {
   "cell_type": "code",
   "execution_count": 146,
   "metadata": {},
   "outputs": [
    {
     "data": {
      "text/plain": [
       "SVC(C=1.0, cache_size=200, class_weight=None, coef0=0.0,\n",
       "  decision_function_shape='ovr', degree=3, gamma='auto', kernel='rbf',\n",
       "  max_iter=-1, probability=False, random_state=None, shrinking=True,\n",
       "  tol=0.001, verbose=False)"
      ]
     },
     "execution_count": 146,
     "metadata": {},
     "output_type": "execute_result"
    }
   ],
   "source": [
    "model.fit(raw_X_train, raw_Y_train)"
   ]
  },
  {
   "cell_type": "code",
   "execution_count": 147,
   "metadata": {},
   "outputs": [
    {
     "data": {
      "text/plain": [
       "'Acc: 0.2565'"
      ]
     },
     "execution_count": 147,
     "metadata": {},
     "output_type": "execute_result"
    }
   ],
   "source": [
    "'Acc: {}'.format((model.predict(raw_X_test) == raw_Y_test).sum() / len(raw_X_test))"
   ]
  }
 ],
 "metadata": {
  "kernelspec": {
   "display_name": "Python 3",
   "language": "python",
   "name": "python3"
  },
  "language_info": {
   "codemirror_mode": {
    "name": "ipython",
    "version": 3
   },
   "file_extension": ".py",
   "mimetype": "text/x-python",
   "name": "python",
   "nbconvert_exporter": "python",
   "pygments_lexer": "ipython3",
   "version": "3.6.1"
  }
 },
 "nbformat": 4,
 "nbformat_minor": 2
}
