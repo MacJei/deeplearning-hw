{
 "cells": [
  {
   "cell_type": "markdown",
   "metadata": {},
   "source": [
    "## Homework: Deep Jazz"
   ]
  },
  {
   "cell_type": "code",
   "execution_count": 1,
   "metadata": {},
   "outputs": [],
   "source": [
    "import numpy as np\n",
    "\n",
    "from grammar import unparse_grammar\n",
    "from music21 import stream, midi, tempo, note\n",
    "from preprocess import get_musical_data, get_corpus_data\n",
    "from qa import prune_grammar, prune_notes, clean_up_notes\n",
    "from generator import __sample, __generate_grammar, __predict"
   ]
  },
  {
   "cell_type": "code",
   "execution_count": 2,
   "metadata": {},
   "outputs": [],
   "source": [
    "N_epochs = 128  # default\n",
    "data_fn = 'midi/' + 'original_metheny.mid'  # 'And Then I Knew' by Pat Metheny\n",
    "out_fn = 'midi/' 'deepjazz_on_metheny...' + str(N_epochs)"
   ]
  },
  {
   "cell_type": "code",
   "execution_count": 3,
   "metadata": {},
   "outputs": [
    {
     "name": "stdout",
     "output_type": "stream",
     "text": [
      "corpus length: 193\n",
      "total # of values: 78\n",
      "CPU times: user 8.32 s, sys: 177 ms, total: 8.5 s\n",
      "Wall time: 8.7 s\n"
     ]
    }
   ],
   "source": [
    "%%time\n",
    "\n",
    "max_len = 20\n",
    "max_tries = 1000\n",
    "diversity = 0.5\n",
    "\n",
    "# musical settings\n",
    "bpm = 130\n",
    "\n",
    "# get data\n",
    "chords, abstract_grammars = get_musical_data(data_fn)\n",
    "corpus, values, val_indices, indices_val = get_corpus_data(abstract_grammars)\n",
    "print('corpus length:', len(corpus))\n",
    "print('total # of values:', len(values))"
   ]
  },
  {
   "cell_type": "code",
   "execution_count": 4,
   "metadata": {},
   "outputs": [
    {
     "data": {
      "text/plain": [
       "[<music21.instrument.Piano Piano>,\n",
       " <music21.tempo.MetronomeMark Quarter=112.0>,\n",
       " <music21.key.Key of G major>,\n",
       " <music21.meter.TimeSignature 4/4>]"
      ]
     },
     "execution_count": 4,
     "metadata": {},
     "output_type": "execute_result"
    }
   ],
   "source": [
    "chords[0]"
   ]
  },
  {
   "cell_type": "code",
   "execution_count": 5,
   "metadata": {},
   "outputs": [],
   "source": [
    "%%capture\n",
    "# NOTE: not working anymore\n",
    "\n",
    "from keras.models import Sequential\n",
    "from keras.layers.core import Dense, Activation, Dropout\n",
    "from keras.layers.recurrent import LSTM\n",
    "\n",
    "def get_keras_model(max_len, N_values):\n",
    "    # build a 2 stacked LSTM\n",
    "    model = Sequential()\n",
    "    model.add(LSTM(128, return_sequences=True, input_shape=(max_len, N_values)))\n",
    "    model.add(Dropout(0.2))\n",
    "    model.add(LSTM(128, return_sequences=False))\n",
    "    model.add(Dropout(0.2))\n",
    "    model.add(Dense(N_values))\n",
    "    model.add(Activation('softmax'))\n",
    "\n",
    "    model.compile(loss='categorical_crossentropy', optimizer='rmsprop')\n",
    "    return model"
   ]
  },
  {
   "cell_type": "markdown",
   "metadata": {},
   "source": [
    "## Task"
   ]
  },
  {
   "cell_type": "markdown",
   "metadata": {},
   "source": [
    "Replace previous model with equivalent in prettytensor or tf.slim\n",
    "\n",
    "Try to make you code as compact as possible"
   ]
  },
  {
   "cell_type": "code",
   "execution_count": 6,
   "metadata": {},
   "outputs": [],
   "source": [
    "import tqdm\n",
    "import random\n",
    "import tensorflow as tf\n",
    "import tensorflow.contrib.slim as slim\n",
    "\n",
    "from lazy import lazy\n",
    "from tensorflow.contrib import rnn\n",
    "\n",
    "\n",
    "def split_batches(n, n_batches):\n",
    "    indicies = np.arange(n)\n",
    "    np.random.shuffle(indicies)\n",
    "    for i in range(len(indicies) // n_batches):\n",
    "        yield indicies[i * n_batches: (i + 1) * n_batches]\n",
    "\n",
    "\n",
    "class MyModel:\n",
    "    def __init__(self, max_len, N_values, lat_size=128, dr_rate=0.2, lr=1e-3):\n",
    "        self.max_len = max_len\n",
    "        self.N_values = N_values\n",
    "        self.lat_size = lat_size\n",
    "        self.dr_rate = dr_rate\n",
    "        self.lr = lr\n",
    "        \n",
    "        self._make_net()\n",
    "    \n",
    "    def fit(self, X, y, batch_size, n_epochs):\n",
    "        optimizer = tf.train.RMSPropOptimizer(learning_rate=self.lr).minimize(self.loss)\n",
    "        with tf.Session() as sess:\n",
    "            sess.run(tf.global_variables_initializer())\n",
    "            for _ in tqdm.tqdm_notebook(range(n_epochs), desc='Epoch'):\n",
    "                for inds in split_batches(len(X), batch_size):\n",
    "                    sess.run(optimizer, feed_dict={self.X: X[inds], self.y: y[inds], self.dr: self.dr_rate})\n",
    "    \n",
    "    def predict(self, X):\n",
    "        with tf.Session() as sess:\n",
    "            sess.run(tf.global_variables_initializer())\n",
    "            return sess.run(self.pred_labels, feed_dict={self.X: X, self.dr: 0.0})\n",
    "    \n",
    "    def _make_net(self):\n",
    "        tf.reset_default_graph()\n",
    "        \n",
    "        # Inputs\n",
    "        self.X = tf.placeholder(tf.float32, shape=[None, self.max_len, self.N_values])\n",
    "        self.y = tf.placeholder(tf.float32, shape=[None, self.N_values])\n",
    "        self.dr = tf.placeholder(tf.float32)\n",
    "        \n",
    "        # Double lstm with dropout\n",
    "        lstm_cell = rnn.MultiRNNCell([\n",
    "            rnn.DropoutWrapper(rnn.LSTMCell(self.lat_size), output_keep_prob=(1 - self.dr)),\n",
    "            rnn.DropoutWrapper(rnn.LSTMCell(self.lat_size), output_keep_prob=(1 - self.dr))\n",
    "        ])\n",
    "        lstm_outputs, _ = tf.nn.dynamic_rnn(lstm_cell, self.X, dtype=tf.float32)\n",
    "        lstm_out = tf.transpose(lstm_outputs, (1, 0, 2))[-1]\n",
    "        \n",
    "        # Dense\n",
    "        self.pred_labels = slim.fully_connected(lstm_out, self.N_values)\n",
    "        \n",
    "        # Loss\n",
    "        self.loss = tf.losses.softmax_cross_entropy(self.y, self.pred_labels)\n",
    "\n",
    "\n",
    "def get_pretty_tensor_model(max_len, N_values):\n",
    "    return MyModel(max_len, N_values)"
   ]
  },
  {
   "cell_type": "code",
   "execution_count": 7,
   "metadata": {},
   "outputs": [],
   "source": [
    "get_model = get_pretty_tensor_model"
   ]
  },
  {
   "cell_type": "code",
   "execution_count": 8,
   "metadata": {},
   "outputs": [],
   "source": [
    "import numpy as np\n",
    "\n",
    "''' Build a 2-layer LSTM from a training corpus '''\n",
    "\n",
    "\n",
    "def build_model(corpus, val_indices, max_len, N_epochs=128):\n",
    "    # number of different values or words in corpus\n",
    "    N_values = len(set(corpus))\n",
    "\n",
    "    # cut the corpus into semi-redundant sequences of max_len values\n",
    "    step = 3\n",
    "    sentences = []\n",
    "    next_values = []\n",
    "    for i in range(0, len(corpus) - max_len, step):\n",
    "        sentences.append(corpus[i: i + max_len])\n",
    "        next_values.append(corpus[i + max_len])\n",
    "    print('nb sequences:', len(sentences))\n",
    "\n",
    "    # transform data into binary matrices\n",
    "    X = np.zeros((len(sentences), max_len, N_values), dtype=np.bool)\n",
    "    y = np.zeros((len(sentences), N_values), dtype=np.bool)\n",
    "    for i, sentence in enumerate(sentences):\n",
    "        for t, val in enumerate(sentence):\n",
    "            X[i, t, val_indices[val]] = 1\n",
    "        y[i, val_indices[next_values[i]]] = 1\n",
    "\n",
    "    model = get_model(max_len, N_values)\n",
    "    model.fit(X, y, batch_size=128, n_epochs=N_epochs)\n",
    "\n",
    "    return model"
   ]
  },
  {
   "cell_type": "code",
   "execution_count": 9,
   "metadata": {},
   "outputs": [
    {
     "name": "stdout",
     "output_type": "stream",
     "text": [
      "nb sequences: 58\n"
     ]
    },
    {
     "data": {
      "application/vnd.jupyter.widget-view+json": {
       "model_id": "b6e1efa0db9c40faafc2f9787a11777d",
       "version_major": 2,
       "version_minor": 0
      },
      "text/html": [
       "<p>Failed to display Jupyter Widget of type <code>HBox</code>.</p>\n",
       "<p>\n",
       "  If you're reading this message in the Jupyter Notebook or JupyterLab Notebook, it may mean\n",
       "  that the widgets JavaScript is still loading. If this message persists, it\n",
       "  likely means that the widgets JavaScript library is either not installed or\n",
       "  not enabled. See the <a href=\"https://ipywidgets.readthedocs.io/en/stable/user_install.html\">Jupyter\n",
       "  Widgets Documentation</a> for setup instructions.\n",
       "</p>\n",
       "<p>\n",
       "  If you're reading this message in another frontend (for example, a static\n",
       "  rendering on GitHub or <a href=\"https://nbviewer.jupyter.org/\">NBViewer</a>),\n",
       "  it may mean that your frontend doesn't currently support widgets.\n",
       "</p>\n"
      ],
      "text/plain": [
       "HBox(children=(IntProgress(value=0, description='Epoch', max=128), HTML(value='')))"
      ]
     },
     "metadata": {},
     "output_type": "display_data"
    },
    {
     "name": "stdout",
     "output_type": "stream",
     "text": [
      "\n",
      "After pruning: 10 notes\n",
      "After pruning: 13 notes\n",
      "After pruning: 11 notes\n",
      "After pruning: 15 notes\n",
      "After pruning: 14 notes\n",
      "After pruning: 13 notes\n",
      "After pruning: 14 notes\n",
      "After pruning: 14 notes\n",
      "After pruning: 15 notes\n",
      "After pruning: 13 notes\n",
      "After pruning: 12 notes\n",
      "After pruning: 14 notes\n",
      "After pruning: 14 notes\n",
      "After pruning: 15 notes\n",
      "After pruning: 13 notes\n",
      "After pruning: 13 notes\n",
      "After pruning: 16 notes\n",
      "After pruning: 11 notes\n"
     ]
    }
   ],
   "source": [
    "# build model\n",
    "model = build_model(corpus=corpus, val_indices=val_indices,\n",
    "                         max_len=max_len, N_epochs=N_epochs)\n",
    "\n",
    "# set up audio stream\n",
    "out_stream = stream.Stream()\n",
    "\n",
    "# generation loop\n",
    "curr_offset = 0.0\n",
    "loopEnd = len(chords)\n",
    "for loopIndex in range(1, loopEnd):\n",
    "    # get chords from file\n",
    "    curr_chords = stream.Voice()\n",
    "    for j in chords[loopIndex]:\n",
    "        curr_chords.insert((j.offset % 4), j)\n",
    "\n",
    "    # generate grammar\n",
    "    curr_grammar = __generate_grammar(model=model, corpus=corpus,\n",
    "                                      abstract_grammars=abstract_grammars,\n",
    "                                      values=values, val_indices=val_indices,\n",
    "                                      indices_val=indices_val,\n",
    "                                      max_len=max_len, max_tries=max_tries,\n",
    "                                      diversity=diversity)\n",
    "\n",
    "    curr_grammar = curr_grammar.replace(' A', ' C').replace(' X', ' C')\n",
    "\n",
    "    # Pruning #1: smoothing measure\n",
    "    curr_grammar = prune_grammar(curr_grammar)\n",
    "\n",
    "    # Get notes from grammar and chords\n",
    "    curr_notes = unparse_grammar(curr_grammar, curr_chords)\n",
    "\n",
    "    # Pruning #2: removing repeated and too close together notes\n",
    "    curr_notes = prune_notes(curr_notes)\n",
    "\n",
    "    # quality assurance: clean up notes\n",
    "    curr_notes = clean_up_notes(curr_notes)\n",
    "\n",
    "    # print # of notes in curr_notes\n",
    "    print('After pruning: %s notes' % (len([i for i in curr_notes\n",
    "                                            if isinstance(i, note.Note)])))\n",
    "\n",
    "    # insert into the output stream\n",
    "    for m in curr_notes:\n",
    "        out_stream.insert(curr_offset + m.offset, m)\n",
    "    for mc in curr_chords:\n",
    "        out_stream.insert(curr_offset + mc.offset, mc)\n",
    "\n",
    "    curr_offset += 4.0\n",
    "\n",
    "out_stream.insert(0.0, tempo.MetronomeMark(number=bpm))\n",
    "\n",
    "# Play the final stream through output (see 'play' lambda function above)\n",
    "play = lambda x: midi.realtime.StreamPlayer(x).play()\n",
    "play(out_stream)\n",
    "\n",
    "# save stream\n",
    "mf = midi.translate.streamToMidiFile(out_stream)\n",
    "mf.open(out_fn, 'wb')\n",
    "mf.write()\n",
    "mf.close()    "
   ]
  },
  {
   "cell_type": "markdown",
   "metadata": {},
   "source": [
    "You can play generated sample using any midi player.\n",
    "\n",
    "Under linux I prefer timidity."
   ]
  },
  {
   "cell_type": "code",
   "execution_count": 10,
   "metadata": {},
   "outputs": [
    {
     "name": "stdout",
     "output_type": "stream",
     "text": [
      "Check URL type=7\n",
      "Check URL type=2\n",
      "Check URL type=1\n",
      "open url (type=1, name=/usr/local/Cellar/timidity/2.14.0/share/timidity/timidity.cfg)\n",
      "url_file_open(/usr/local/Cellar/timidity/2.14.0/share/timidity/timidity.cfg)\n",
      "mmap - success. size=4625\n",
      "Check URL type=7\n",
      "Check URL type=2\n",
      "Check URL type=1\n",
      "open url (type=1, name=~/.timidity.cfg)\n",
      "url_file_open(~/.timidity.cfg)\n",
      "Playing midi/deepjazz_on_metheny...128\n",
      "MIDI file: midi/deepjazz_on_metheny...128\n",
      "Check URL type=7\n",
      "Check URL type=2\n",
      "Check URL type=1\n",
      "open url (type=1, name=midi/deepjazz_on_metheny...128)\n",
      "url_file_open(midi/deepjazz_on_metheny...128)\n",
      "mmap - success. size=3957\n",
      "Format: 1  Tracks: 1  Divisions: 1024\n",
      "Sequence: \n",
      "Check URL type=7\n",
      "Check URL type=2\n",
      "Check URL type=1\n",
      "open url (type=1, name=Tone_000/000_Acoustic_Grand_Piano.pat)\n",
      "url_file_open(Tone_000/000_Acoustic_Grand_Piano.pat)\n",
      "Check URL type=7\n",
      "Check URL type=2\n",
      "Check URL type=1\n",
      "open url (type=1, name=/usr/local/Cellar/timidity/2.14.0/share/timidity/Tone_000/000_Acoustic_Grand_Piano.pat)\n",
      "url_file_open(/usr/local/Cellar/timidity/2.14.0/share/timidity/Tone_000/000_Acoustic_Grand_Piano.pat)\n",
      "mmap - success. size=1336363\n",
      "Playing time: ~38 seconds\n",
      "Notes cut: 0\n",
      "Notes lost totally: 0\n"
     ]
    }
   ],
   "source": [
    "! timidity midi/deepjazz_on_metheny...128"
   ]
  }
 ],
 "metadata": {
  "kernelspec": {
   "display_name": "Python 3",
   "language": "python",
   "name": "python3"
  },
  "language_info": {
   "codemirror_mode": {
    "name": "ipython",
    "version": 3
   },
   "file_extension": ".py",
   "mimetype": "text/x-python",
   "name": "python",
   "nbconvert_exporter": "python",
   "pygments_lexer": "ipython3",
   "version": "3.6.2"
  }
 },
 "nbformat": 4,
 "nbformat_minor": 2
}
